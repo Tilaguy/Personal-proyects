{
 "cells": [
  {
   "cell_type": "markdown",
   "id": "407acbec",
   "metadata": {},
   "source": [
    "# 🔌 Power Consumption Analysis of a Custom Robotic Arm\n",
    "\n",
    "This notebook analyzes the power consumption of an n-DOF robotic arm,\n",
    "where each joint may be equipped with a different servomotor model.\n",
    "\n",
    "The structure of the robotic arm, including servomotor references and operation torques,\n",
    "is defined in the Excel file: `Robotic_arm_motors.xlsx`.\n",
    "\n",
    "Two supporting modules are used:\n",
    "- `Functions/servomotors.py`: Loads servomotor data and builds approximation models.\n",
    "- `Functions/robotic_arm.py`: Uses that data to simulate the robotic arm's behavior.\n"
   ]
  },
  {
   "cell_type": "markdown",
   "id": "1a2ed68f",
   "metadata": {},
   "source": [
    "## 📦 Import Required Libraries"
   ]
  },
  {
   "cell_type": "code",
   "execution_count": null,
   "id": "7486c2cb",
   "metadata": {},
   "outputs": [],
   "source": [
    "import numpy as np\n",
    "import pandas as pd\n",
    "import matplotlib.pyplot as plt\n",
    "\n",
    "from Functions.robotic_arm import robotic_arm\n"
   ]
  },
  {
   "cell_type": "markdown",
   "id": "bd4642ad",
   "metadata": {},
   "source": [
    "## 🤖 Instantiate the Robotic Arm Object"
   ]
  },
  {
   "cell_type": "code",
   "execution_count": null,
   "id": "9b1cc925",
   "metadata": {},
   "outputs": [
    {
     "name": "stderr",
     "output_type": "stream",
     "text": [
      "C:\\Users\\tilag\\AppData\\Local\\Packages\\PythonSoftwareFoundation.Python.3.12_qbz5n2kfra8p0\\LocalCache\\local-packages\\Python312\\site-packages\\openpyxl\\worksheet\\_reader.py:329: UserWarning: Data Validation extension is not supported and will be removed\n",
      "  warn(msg)\n"
     ]
    }
   ],
   "source": [
    "arm = robotic_arm()"
   ]
  },
  {
   "cell_type": "markdown",
   "id": "59367b12",
   "metadata": {},
   "source": [
    "## ⚙️ Evaluate the Robotic Arm Under Different Operation Cases\n",
    "\n",
    "1. **User-defined operation torque**\n",
    "2. **Rated operation from datasheets**\n",
    "3. **Rated operation with safety margin**\n",
    "4. **Operation at maximum capacity**\n"
   ]
  },
  {
   "cell_type": "code",
   "execution_count": null,
   "id": "be61d970",
   "metadata": {},
   "outputs": [],
   "source": [
    "servos_op, arm_operation = arm.operation_point()\n",
    "servos_rated, arm_rated = arm.rated_point()\n",
    "servos_safe, arm_safe = arm.safe_point()\n",
    "servos_max, arm_max = arm.max_point()\n"
   ]
  },
  {
   "cell_type": "markdown",
   "id": "230959fe",
   "metadata": {},
   "source": [
    "## 🧾 Generate Consolidated Report"
   ]
  },
  {
   "cell_type": "code",
   "execution_count": null,
   "id": "4f0c0722",
   "metadata": {},
   "outputs": [
    {
     "name": "stdout",
     "output_type": "stream",
     "text": [
      "==========================================================================================\n",
      "🔧 Robotic Arm - Operating at Edge Conditions:\n",
      "    T(N.m)    N(r/min)    Pout(W)       U(V)      I(A)      Pin(W)     Eff(%)\n",
      "M1   10.46   78.622218  86.105066  23.739290  6.547546  155.766765  55.388325\n",
      "M2    6.84   80.447454  57.659892  23.819398  4.447939  106.308889  54.340283\n",
      "M3    9.33   79.174450  77.181956  23.764009  5.885070  140.471773  55.192594\n",
      "M4    6.31   80.722488  53.455138  23.831291  4.145786   98.938446  54.034459\n",
      "M5    4.00   81.889546  34.340547  23.883198  2.810050   66.420353  51.061518\n",
      "M6    2.04  141.970579  30.213892  24.493458  2.730588   66.778237  44.929660\n",
      "M7    0.65  142.026881   9.508834  24.539760  1.605754   39.419375  24.169604\n",
      "------------------------------------------------------------------------------------------\n",
      "✅ Robotic Arm - Rated Operation:\n",
      "    T(N.m)    N(r/min)    Pout(W)       U(V)      I(A)      Pin(W)     Eff(%)\n",
      "M1    10.5   78.603113  86.420768  23.738421  6.571077  156.306237  55.393182\n",
      "M2    10.5   78.603113  86.420768  23.738421  6.571077  156.306237  55.393182\n",
      "M3    10.5   78.603113  86.420768  23.738421  6.571077  156.306237  55.393182\n",
      "M4    10.5   78.603113  86.420768  23.738421  6.571077  156.306237  55.393182\n",
      "M5    10.5   78.603113  86.420768  23.738421  6.571077  156.306237  55.393182\n",
      "M6     2.5  141.989220  37.075205  24.475104  3.158245   77.577203  47.559481\n",
      "M7     2.5  141.989220  37.075205  24.475104  3.158245   77.577203  47.559481\n",
      "------------------------------------------------------------------------------------------\n",
      "🛡️ Robotic Arm - Rated Operation + Safety Factor:\n",
      "    T(N.m)    N(r/min)    Pout(W)       U(V)      I(A)      Pin(W)     Eff(%)\n",
      "M1    10.5   78.603113  86.420768  23.738421  7.885292  187.184390  55.393182\n",
      "M2    10.5   78.603113  86.420768  23.738421  7.885292  187.184390  55.393182\n",
      "M3    10.5   78.603113  86.420768  23.738421  7.885292  187.184390  55.393182\n",
      "M4    10.5   78.603113  86.420768  23.738421  7.885292  187.184390  55.393182\n",
      "M5    10.5   78.603113  86.420768  23.738421  7.885292  187.184390  55.393182\n",
      "M6     2.5  141.989220  37.075205  24.475104  3.789895   92.758065  47.559481\n",
      "M7     2.5  141.989220  37.075205  24.475104  3.789895   92.758065  47.559481\n",
      "------------------------------------------------------------------------------------------\n",
      "⚡ Robotic Arm - Maximum Capacity:\n",
      "    T(N.m)    N(r/min)     Pout(W)       U(V)       I(A)      Pin(W)  \\\n",
      "M1  22.480   73.090374  171.486183  23.481553  13.491655  316.487014   \n",
      "M2  22.480   73.090374  171.486183  23.481553  13.491655  316.487014   \n",
      "M3  22.480   73.090374  171.486183  23.481553  13.491655  316.487014   \n",
      "M4  22.480   73.090374  171.486183  23.481553  13.491655  316.487014   \n",
      "M5  22.480   73.090374  171.486183  23.481553  13.491655  316.487014   \n",
      "M6   5.229  138.194731   75.225612  24.352303   6.432766  156.534960   \n",
      "M7   5.229  138.194731   75.225612  24.352303   6.432766  156.534960   \n",
      "\n",
      "       Eff(%)  \n",
      "M1  54.088761  \n",
      "M2  54.088761  \n",
      "M3  54.088761  \n",
      "M4  54.088761  \n",
      "M5  54.088761  \n",
      "M6  47.943410  \n",
      "M7  47.943410  \n",
      "------------------------------------------------------------------------------------------\n",
      "📊 Summary: Robotic Arm Operating Points\n",
      "         Operation       Rated  Rated with safety factor      Maximum\n",
      "U(V)     24.010058   23.948902                 23.948902    23.730339\n",
      "I(A)     28.172732   39.171875                 47.006250    80.323807\n",
      "Eff(%)   51.785089   54.197043                 45.164203    53.319944\n",
      "P(W)    673.432941  934.531733               1121.438080  1897.330410\n"
     ]
    }
   ],
   "source": [
    "print(\"=\"*90)\n",
    "print(\"🔧 Robotic Arm - Operating at Edge Conditions:\")\n",
    "print(servos_op)\n",
    "print(\"-\"*90)\n",
    "print(\"✅ Robotic Arm - Rated Operation:\")\n",
    "print(servos_rated)\n",
    "print(\"-\"*90)\n",
    "print(\"🛡️ Robotic Arm - Rated Operation + Safety Factor:\")\n",
    "print(servos_safe)\n",
    "print(\"-\"*90)\n",
    "print(\"⚡ Robotic Arm - Maximum Capacity:\")\n",
    "print(servos_max)\n",
    "\n",
    "# Combine all cases into a single DataFrame for easy comparison\n",
    "arm_report_df = pd.concat([arm_operation, arm_rated, arm_safe, arm_max], axis=1)\n",
    "print(\"-\"*90)\n",
    "print(\"📊 Summary: Robotic Arm Operating Points\")\n",
    "print(arm_report_df)\n"
   ]
  },
  {
   "cell_type": "markdown",
   "id": "9fd3eac4",
   "metadata": {},
   "source": [
    "## 🔋 Determine Power Supply Requirements Based on Safety Margin"
   ]
  },
  {
   "cell_type": "code",
   "execution_count": null,
   "id": "e3981127",
   "metadata": {},
   "outputs": [
    {
     "name": "stdout",
     "output_type": "stream",
     "text": [
      "------------------------------------------------------------------------------------------\n",
      "🔌 Power Source Requirements (with safety factor):\n",
      "- Output voltage: 24 VDC (stable)\n",
      "- Output current ≥ 47.01 A\n",
      "- Output power ≥ 1128.15 W\n",
      "==========================================================================================\n"
     ]
    }
   ],
   "source": [
    "safe_I = arm_report_df.loc[\"I(A)\", \"Rated with safety factor\"]\n",
    "safe_P = arm_report_df.loc[\"P(W)\", \"Rated with safety factor\"]\n",
    "op_I = arm_report_df.loc[\"I(A)\", \"Operation\"]\n",
    "op_P = arm_report_df.loc[\"P(W)\", \"Operation\"]\n",
    "rated_I = arm_report_df.loc[\"I(A)\", \"Rated\"]\n",
    "rated_P = arm_report_df.loc[\"P(W)\", \"Rated\"]\n",
    "\n",
    "print(\"-\"*90)\n",
    "print(f\"🔌 Power Source Requirements (with safety factor):\")\n",
    "print(f\"- Output voltage: 24 VDC (stable)\")\n",
    "print(f\"- Output current ≥ {safe_I:.2f} A\")\n",
    "print(f\"- Output power ≥ {max(safe_P, safe_I * 24):.2f} W\")\n",
    "\n",
    "# === Safety Warning Messages ===\n",
    "if op_I > safe_I or op_P > safe_P:\n",
    "    print(f\"💥 WARNING: Operating point exceeds safe design limits!\")\n",
    "    print(f\"  - Current: {op_I:.2f} A > Safe: {safe_I:.2f} A\")\n",
    "    print(f\"  - Power  : {op_P:.2f} W > Safe: {safe_P:.2f} W\")\n",
    "\n",
    "elif op_I > rated_I or op_P > rated_P:\n",
    "    print(f\"⚠️ WARNING: Operating point exceeds rated values.\")\n",
    "    print(f\"  - Current: {op_I:.2f} A > Rated: {rated_I:.2f} A\")\n",
    "    print(f\"  - Power  : {op_P:.2f} W > Rated: {rated_P:.2f} W\")\n",
    "\n",
    "print(\"=\"*90)\n"
   ]
  },
  {
   "cell_type": "markdown",
   "id": "462ac729",
   "metadata": {},
   "source": [
    "## 📉 Visualization: Current and Power Consumption per Operation Case"
   ]
  },
  {
   "cell_type": "code",
   "execution_count": null,
   "id": "2d5f7440",
   "metadata": {},
   "outputs": [
    {
     "data": {
      "image/png": "[encoded data removed]",
      "text/plain": [
       "<Figure size 1000x500 with 1 Axes>"
      ]
     },
     "metadata": {},
     "output_type": "display_data"
    }
   ],
   "source": [
    "category_names = ['Operation', 'Rated', 'Rated with safety factor', 'Maximum']\n",
    "report_subset = arm_report_df.loc[[\"I(A)\", \"P(W)\"]]\n",
    "\n",
    "# Normalize values for plotting\n",
    "raw_data = report_subset.values\n",
    "data_max = np.max(raw_data, axis=1).reshape(-1, 1)\n",
    "normalized = raw_data / data_max\n",
    "\n",
    "# Bar chart settings\n",
    "index = np.arange(normalized.shape[0])\n",
    "bar_height = 0.2\n",
    "category_colors = plt.colormaps['Paired'](np.linspace(0.15, 0.41, len(category_names)))\n",
    "\n",
    "fig, ax = plt.subplots(figsize=(10, 5))\n",
    "ax.invert_yaxis()\n",
    "ax.xaxis.set_visible(False)\n",
    "ax.set_xlim(0, 1)\n",
    "\n",
    "for j in range(len(category_names)):\n",
    "    bars = ax.barh(index + j * bar_height, normalized[:, j], height=bar_height,\n",
    "                   color=category_colors[j], label=category_names[j])\n",
    "    labels = [f\"{v:.2f}\" for v in raw_data[:, j]]\n",
    "    ax.bar_label(bars, labels=labels, label_type='center', fontsize=14, color='black')\n",
    "\n",
    "ax.set_yticks(index + (bar_height * (len(category_names) - 1)) / 2)\n",
    "ax.set_yticklabels(report_subset.index)\n",
    "ax.legend(ncols=len(category_names), bbox_to_anchor=(0, 1), loc='lower left', fontsize='small')\n",
    "\n",
    "plt.title('⚙️ Power and Current Consumption per Operation Case', fontsize=16)\n",
    "plt.tight_layout()\n",
    "plt.show()\n"
   ]
  },
  {
   "cell_type": "markdown",
   "id": "577eaea3",
   "metadata": {},
   "source": [
    "## 📌 Conclusion\n",
    "\n",
    "This analysis provides an overview of the estimated electrical consumption of the robotic arm under different scenarios.\n",
    "\n",
    "- The **safest configuration** (Rated + Safety Factor) should be used for power supply sizing.\n",
    "- Operation outside of rated conditions is **not recommended** due to the potential for overheating or overloading.\n",
    "- Graphical comparison helps visualize how far each condition is from the rated point.\n",
    "\n",
    "**Next steps:**\n",
    "- Modeling dynamic consumption under motion profiles.\n",
    "- Thermal analysis and heat dissipation needs.\n",
    "- Hardware-in-the-loop verification with actual servomotor behavior.\n"
   ]
  }
 ],
 "metadata": {
  "kernelspec": {
   "display_name": "Python 3",
   "language": "python",
   "name": "python3"
  },
  "language_info": {
   "codemirror_mode": {
    "name": "ipython",
    "version": 3
   },
   "file_extension": ".py",
   "mimetype": "text/x-python",
   "name": "python",
   "nbconvert_exporter": "python",
   "pygments_lexer": "ipython3",
   "version": "3.12.10"
  }
 },
 "nbformat": 4,
 "nbformat_minor": 5
}

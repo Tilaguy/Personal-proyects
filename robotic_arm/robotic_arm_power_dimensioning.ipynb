{
  "nbformat": 4,
  "nbformat_minor": 0,
  "metadata": {
    "colab": {
      "provenance": [],
      "authorship_tag": "ABX9TyO0bmCyG8AJjZzI3ZAo9X9H",
      "include_colab_link": true
    },
    "kernelspec": {
      "name": "python3",
      "display_name": "Python 3"
    },
    "language_info": {
      "name": "python"
    }
  },
  "cells": [
    {
      "cell_type": "markdown",
      "metadata": {
        "id": "view-in-github",
        "colab_type": "text"
      },
      "source": [
        "<a href=\"https://colab.research.google.com/github/Tilaguy/Personal-proyects/blob/main/robotic_arm/robotic_arm_power_dimensioning.ipynb\" target=\"_parent\"><img src=\"https://colab.research.google.com/assets/colab-badge.svg\" alt=\"Open In Colab\"/></a>"
      ]
    },
    {
      "cell_type": "markdown",
      "source": [
        "# Power Consumption of an Arbitrary Robotic Arm\n",
        "This document presents an analysis of an n-DOF robotic arm,  in which each joint can have a different servomotor.\n",
        "\n",
        "The number of joints,servomotor references, and operating point can be edited in an Excel file called \"**Robotic_arm_motors.xlsx**\"\n",
        "\n",
        "In the folder *Functions*, there are two files:\n",
        "- **servomotors.py**: This file takes the motor information from *Databases* according to the servomotor reference and builds a mathematical approximation model for each variable in the respective database as a function of **torque**.\n",
        "- **robotic_arm.py**: This file uses the information from the file **Robotic_arm_motors.xlsx** and creates each servomotor from **servomotors.py*. It considers the operating point, nominal case, design safety factor, and maximum values of each servomotor while analyzing the operating conditions for the full arm."
      ],
      "metadata": {
        "id": "AIbN0pq19r7T"
      }
    },
    {
      "cell_type": "markdown",
      "source": [
        "## Importing Libraries Requires"
      ],
      "metadata": {
        "id": "oPf4IAjWEGIo"
      }
    },
    {
      "cell_type": "code",
      "execution_count": null,
      "metadata": {
        "id": "9YGGSO_N7kuo"
      },
      "outputs": [],
      "source": [
        "import numpy as np\n",
        "import pandas as pd\n",
        "import matplotlib.pyplot as plt\n",
        "\n",
        "from Functions.robotic_arm import robotic_arm"
      ]
    }
  ]
}